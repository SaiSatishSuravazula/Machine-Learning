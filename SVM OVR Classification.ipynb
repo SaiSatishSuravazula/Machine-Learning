{
  "nbformat": 4,
  "nbformat_minor": 0,
  "metadata": {
    "colab": {
      "provenance": []
    },
    "kernelspec": {
      "name": "python3",
      "display_name": "Python 3"
    },
    "language_info": {
      "name": "python"
    }
  },
  "cells": [
    {
      "cell_type": "markdown",
      "source": [
        "### Description of SVM under OVR setting\n",
        "\n",
        "In OVR, a multi-class problem is divided into multiple binary-classification problems. For each class, an SVM classifier is trained to distinguish it from other classes. So totally 10 SVM classifiers are built, each corresponding to an MNIST digit(0-9).\n",
        "\n",
        "To predict the class for a new input, all the classifiers are evaluated on the new input and the class corresponding to classifier with highest probability for its positive class is assigned as a label."
      ],
      "metadata": {
        "id": "ZgNIUdXa0_XO"
      }
    },
    {
      "cell_type": "code",
      "execution_count": null,
      "metadata": {
        "colab": {
          "base_uri": "https://localhost:8080/"
        },
        "id": "WymbUsp8rJUw",
        "outputId": "0811259e-b118-4123-b152-9a80f43ad2b5"
      },
      "outputs": [
        {
          "output_type": "stream",
          "name": "stderr",
          "text": [
            "/usr/local/lib/python3.10/dist-packages/sklearn/datasets/_openml.py:1022: FutureWarning: The default value of `parser` will change from `'liac-arff'` to `'auto'` in 1.4. You can set `parser='auto'` to silence this warning. Therefore, an `ImportError` will be raised from 1.4 if the dataset is dense and pandas is not installed. Note that the pandas parser may return different data types. See the Notes Section in fetch_openml's API doc for details.\n",
            "  warn(\n"
          ]
        },
        {
          "output_type": "execute_result",
          "data": {
            "text/plain": [
              "dict_keys(['data', 'target', 'frame', 'categories', 'feature_names', 'target_names', 'DESCR', 'details', 'url'])"
            ]
          },
          "metadata": {},
          "execution_count": 1
        }
      ],
      "source": [
        "from sklearn.datasets import fetch_openml\n",
        "mnist = fetch_openml('mnist_784', version=1)\n",
        "mnist.keys()"
      ]
    },
    {
      "cell_type": "code",
      "execution_count": null,
      "metadata": {
        "id": "G2n53qUPr4pE"
      },
      "outputs": [],
      "source": [
        "X, y = mnist['data'], mnist['target']"
      ]
    },
    {
      "cell_type": "code",
      "execution_count": null,
      "metadata": {
        "id": "bFX1hBrFr6Th"
      },
      "outputs": [],
      "source": [
        "import numpy as np\n",
        "\n",
        "y = y.astype(np.uint8)\n",
        "X = np.array(X)\n",
        "y = np.array(y)"
      ]
    },
    {
      "cell_type": "code",
      "execution_count": null,
      "metadata": {
        "colab": {
          "base_uri": "https://localhost:8080/"
        },
        "id": "T-tw7oLBsM56",
        "outputId": "efff667f-7a44-44f9-b350-8d72794960f0"
      },
      "outputs": [
        {
          "output_type": "stream",
          "name": "stdout",
          "text": [
            "0.0 255.0\n"
          ]
        }
      ],
      "source": [
        "from sklearn.preprocessing import normalize\n",
        "print(X.min(), X.max())\n",
        "X = normalize(X)"
      ]
    },
    {
      "cell_type": "code",
      "execution_count": null,
      "metadata": {
        "id": "1LmsfPdZwHR3"
      },
      "outputs": [],
      "source": [
        "from sklearn.model_selection import train_test_split\n",
        "\n",
        "\n",
        "X_train, X_test, y_train, y_test = train_test_split(X, y, test_size=200, stratify=y)"
      ]
    },
    {
      "cell_type": "code",
      "source": [
        "# Getting small validation set\n",
        "\n",
        "X_train_2, X_val, y_train_2, y_val = train_test_split(X_train, y_train, test_size=0.1, stratify=y_train)\n"
      ],
      "metadata": {
        "id": "FT8bfNY1KktB"
      },
      "execution_count": null,
      "outputs": []
    },
    {
      "cell_type": "markdown",
      "source": [
        "Now we will try to find the best hyperparameter values based on small validation set."
      ],
      "metadata": {
        "id": "A-ZTe2kf4OYP"
      }
    },
    {
      "cell_type": "code",
      "source": [
        "#Hyperparameter Tuning\n",
        "\n",
        "from sklearn.model_selection import GridSearchCV\n",
        "from sklearn.multiclass import OneVsRestClassifier\n",
        "from sklearn.svm import SVC\n",
        "\n",
        "# Define a range of possible C values to test\n",
        "param_grid = {'estimator__C': [0.005, 0.01, 0.1, 0.5, 1.0, 5.0]}\n",
        "\n",
        "# Set up the grid search with cross-validation\n",
        "grid_search = GridSearchCV(OneVsRestClassifier(SVC(kernel='linear', class_weight='balanced')), param_grid, cv=5)\n",
        "\n",
        "# Fit the grid search to the validation data\n",
        "grid_search.fit(X_val, y_val)\n",
        "\n",
        "# The best C value based on cross-validation\n",
        "best_C = grid_search.best_params_['estimator__C']\n",
        "print(f\"Best C: {best_C}\")\n"
      ],
      "metadata": {
        "colab": {
          "base_uri": "https://localhost:8080/"
        },
        "id": "FZg5JCbpzO67",
        "outputId": "f3711364-263d-4995-ec69-fa924c70fe87"
      },
      "execution_count": null,
      "outputs": [
        {
          "output_type": "stream",
          "name": "stdout",
          "text": [
            "Best C: 5.0\n"
          ]
        }
      ]
    },
    {
      "cell_type": "code",
      "source": [
        "from sklearn.multiclass import OneVsRestClassifier\n",
        "from sklearn.svm import SVC\n",
        "ovr_clf = OneVsRestClassifier(SVC(kernel = 'linear', C=best_C, class_weight='balanced'))\n",
        "ovr_clf.fit(X_train, y_train)\n",
        "\n",
        "print(\"The number of estimators created: \", len(ovr_clf.estimators_))\n",
        "\n",
        "# Let us get the predictions from OvRClassifier\n",
        "ovr_predictions = ovr_clf.predict(X_test)\n",
        "\n",
        "print(ovr_predictions)\n",
        "print(ovr_predictions.shape)\n",
        "\n",
        "# Find out the accuracy of our classifier\n",
        "print(\"Accuracy: \",ovr_clf.score(X_test, y_test))"
      ],
      "metadata": {
        "colab": {
          "base_uri": "https://localhost:8080/"
        },
        "id": "ff8XgNon3ktu",
        "outputId": "7e0accb5-717a-4254-dd23-b679ea97bad2"
      },
      "execution_count": null,
      "outputs": [
        {
          "output_type": "stream",
          "name": "stdout",
          "text": [
            "The number of estimators created:  10\n",
            "[5 1 3 8 9 2 9 4 4 1 4 7 6 5 5 0 9 3 6 3 3 9 7 0 7 9 2 8 8 6 7 0 7 2 1 5 8\n",
            " 9 8 0 0 6 1 0 4 5 9 7 0 5 0 0 0 3 1 6 3 6 6 1 0 2 1 2 0 4 7 6 8 5 8 8 2 5\n",
            " 1 0 1 8 2 2 9 5 2 7 0 0 3 1 9 4 6 7 5 1 7 4 4 3 6 4 7 6 6 7 1 1 9 9 3 1 3\n",
            " 5 3 4 6 8 3 2 1 3 8 9 7 4 8 7 0 6 1 6 7 8 0 6 3 3 4 4 3 9 7 7 1 5 5 3 6 4\n",
            " 2 4 9 2 4 2 9 8 9 3 5 8 8 7 2 0 9 5 5 2 1 9 6 6 6 4 9 8 1 1 5 4 7 2 8 9 3\n",
            " 1 8 8 8 7 2 3 2 0 2 9 2 7 8 1]\n",
            "(200,)\n",
            "Accuracy:  0.91\n"
          ]
        }
      ]
    },
    {
      "cell_type": "markdown",
      "source": [
        "The accuracy that was reached is 91%"
      ],
      "metadata": {
        "id": "eP7gBfmY15Lp"
      }
    },
    {
      "cell_type": "code",
      "source": [
        "# Printing the confusion matrix\n",
        "from sklearn.metrics import confusion_matrix\n",
        "import seaborn as sns\n",
        "import pandas as pd\n",
        "import matplotlib.pyplot as plt\n",
        "\n",
        "C = confusion_matrix(y_test,ovr_predictions)\n",
        "\n",
        "fig, ax = plt.subplots()\n",
        "class_names=[0,1]\n",
        "tick_marks = np.arange(len(class_names))\n",
        "plt.xticks(tick_marks, class_names)\n",
        "plt.yticks(tick_marks, class_names)\n",
        "sns.heatmap(pd.DataFrame(C), annot=True, cmap=\"YlGnBu\" ,fmt='g')\n",
        "ax.xaxis.set_label_position(\"top\")\n",
        "plt.tight_layout()\n",
        "plt.title('Confusion matrix test set', y=1.1)\n",
        "plt.ylabel('Actual label')\n",
        "plt.xlabel('Predicted label')"
      ],
      "metadata": {
        "colab": {
          "base_uri": "https://localhost:8080/",
          "height": 569
        },
        "id": "kBsmuPWxVJLN",
        "outputId": "9205746e-bbb2-48c4-d533-18f361fe8ce7"
      },
      "execution_count": null,
      "outputs": [
        {
          "output_type": "execute_result",
          "data": {
            "text/plain": [
              "Text(0.5, 427.9555555555555, 'Predicted label')"
            ]
          },
          "metadata": {},
          "execution_count": 11
        },
        {
          "output_type": "display_data",
          "data": {
            "text/plain": [
              "<Figure size 640x480 with 2 Axes>"
            ],
            "image/png": "[encoded data removed]"
          },
          "metadata": {}
        }
      ]
    }
  ]
}